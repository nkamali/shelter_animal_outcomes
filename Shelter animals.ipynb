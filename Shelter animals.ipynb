{
 "cells": [
  {
   "cell_type": "code",
   "execution_count": 30,
   "metadata": {
    "collapsed": true
   },
   "outputs": [],
   "source": [
    "#Reading data\n",
    "\n",
    "import numpy as np # linear algebra\n",
    "import pandas as pd # data processing, CSV file I/O (e.g. pd.read_csv)\n",
    "import seaborn as sns\n",
    "import csv as csv\n",
    "import sklearn\n",
    "import matplotlib.pyplot as plt\n",
    "%matplotlib inline\n",
    "\n",
    "\n"
   ]
  },
  {
   "cell_type": "code",
   "execution_count": 31,
   "metadata": {},
   "outputs": [
    {
     "name": "stdout",
     "output_type": "stream",
     "text": [
      "<class 'pandas.core.frame.DataFrame'>\n",
      "RangeIndex: 11456 entries, 0 to 11455\n",
      "Data columns (total 8 columns):\n",
      "ID                11456 non-null int64\n",
      "Name              8231 non-null object\n",
      "DateTime          11456 non-null object\n",
      "AnimalType        11456 non-null object\n",
      "SexuponOutcome    11456 non-null object\n",
      "AgeuponOutcome    11450 non-null object\n",
      "Breed             11456 non-null object\n",
      "Color             11456 non-null object\n",
      "dtypes: int64(1), object(7)\n",
      "memory usage: 716.1+ KB\n",
      "None\n",
      "<class 'pandas.core.frame.DataFrame'>\n",
      "RangeIndex: 26729 entries, 0 to 26728\n",
      "Data columns (total 10 columns):\n",
      "AnimalID          26729 non-null object\n",
      "Name              19038 non-null object\n",
      "DateTime          26729 non-null object\n",
      "OutcomeType       26729 non-null object\n",
      "OutcomeSubtype    13117 non-null object\n",
      "AnimalType        26729 non-null object\n",
      "SexuponOutcome    26728 non-null object\n",
      "AgeuponOutcome    26711 non-null object\n",
      "Breed             26729 non-null object\n",
      "Color             26729 non-null object\n",
      "dtypes: object(10)\n",
      "memory usage: 2.0+ MB\n",
      "None\n"
     ]
    }
   ],
   "source": [
    "# load the data\n",
    "\n",
    "train_df = pd.read_csv(\"shelter-animal-outcomes/train.csv.gz\")\n",
    "test_df = pd.read_csv(\"shelter-animal-outcomes/test.csv.gz\")\n",
    "\n",
    "print(test_df.info())\n",
    "print(train_df.info())\n",
    "#EDA\n",
    "#Replacing NaN\n",
    "#Creating consistency in age column"
   ]
  },
  {
   "cell_type": "code",
   "execution_count": 32,
   "metadata": {},
   "outputs": [],
   "source": [
    "train_df['OutcomeSubtype'].replace(np.nan, 'Unknown', regex=True, inplace=True)"
   ]
  },
  {
   "cell_type": "code",
   "execution_count": 33,
   "metadata": {},
   "outputs": [
    {
     "name": "stdout",
     "output_type": "stream",
     "text": [
      "AgeuponOutcome conversion done.\n"
     ]
    }
   ],
   "source": [
    "# convert all of the AgeuponOutcome values into weeks\n",
    "\n",
    "def convert_AgeuponOutcome_to_weeks(df):\n",
    "    result = {}\n",
    "    for k in df['AgeuponOutcome'].unique():\n",
    "        if type(k) != type(\"\"):\n",
    "            result[k] = -1\n",
    "        else:\n",
    "            v1, v2 = k.split()\n",
    "            if v2 in [\"year\", \"years\"]:\n",
    "                result[k] = int(v1) * 52\n",
    "            elif v2 in [\"month\", \"months\"]:\n",
    "                result[k] = int(v1) * 4.5\n",
    "            elif v2 in [\"week\", \"weeks\"]:\n",
    "                result[k] = int(v1)\n",
    "            elif v2 in [\"day\", \"days\"]:\n",
    "                result[k] = int(v1) / 7\n",
    "                \n",
    "    df['_AgeuponOutcome'] = df['AgeuponOutcome'].map(result).astype(float)\n",
    "    df = df.drop('AgeuponOutcome', axis = 1)\n",
    "                \n",
    "    return df\n",
    "\n",
    "train_df = convert_AgeuponOutcome_to_weeks(train_df)\n",
    "test_df = convert_AgeuponOutcome_to_weeks(test_df)\n",
    "print(\"AgeuponOutcome conversion done.\")\n"
   ]
  },
  {
   "cell_type": "code",
   "execution_count": 34,
   "metadata": {},
   "outputs": [
    {
     "name": "stdout",
     "output_type": "stream",
     "text": [
      "Numerical conversion of features done.\n"
     ]
    }
   ],
   "source": [
    "# convert all of the remaining features to numeric values\n",
    "\n",
    "def convert_to_numeric(df):\n",
    "    for col in ['Name', 'AnimalType', 'SexuponOutcome',\n",
    "                'Breed', 'Color', 'OutcomeType']:\n",
    "        if col in df.columns:\n",
    "            _col = \"_%s\" % (col)\n",
    "            values = df[col].unique()\n",
    "            _values = dict(zip(values, range(len(values))))\n",
    "            df[_col] = df[col].map(_values).astype(int)\n",
    "            df = df.drop(col, axis = 1)\n",
    "    return df\n",
    "\n",
    "train_df = convert_to_numeric(train_df)\n",
    "test_df = convert_to_numeric(test_df)\n",
    "\n",
    "print(\"Numerical conversion of features done.\")"
   ]
  },
  {
   "cell_type": "code",
   "execution_count": 35,
   "metadata": {},
   "outputs": [
    {
     "name": "stdout",
     "output_type": "stream",
     "text": [
      "DateTime column split into parts done.\n"
     ]
    }
   ],
   "source": [
    "# fix the DateTime column\n",
    "\n",
    "def fix_date_time(df):\n",
    "    def extract_field(_df, start, stop):\n",
    "        return _df['DateTime'].map(lambda dt: int(dt[start:stop]))\n",
    "    df['Year'] = extract_field(df,0,4)\n",
    "    df['Month'] = extract_field(df,5,7)\n",
    "    df['Day'] = extract_field(df,8,10)\n",
    "    df['Hour'] = extract_field(df,11,13)\n",
    "    df['Minute'] = extract_field(df,14,16)\n",
    "    \n",
    "    return df.drop(['DateTime'], axis = 1)\n",
    "\n",
    "train_df = fix_date_time(train_df)\n",
    "test_df = fix_date_time(test_df)\n",
    "\n",
    "print(\"DateTime column split into parts done.\")"
   ]
  },
  {
   "cell_type": "code",
   "execution_count": 36,
   "metadata": {},
   "outputs": [
    {
     "name": "stdout",
     "output_type": "stream",
     "text": [
      "<class 'pandas.core.frame.DataFrame'>\n",
      "RangeIndex: 26729 entries, 0 to 26728\n",
      "Data columns (total 13 columns):\n",
      "AnimalID           26729 non-null object\n",
      "_Name              26729 non-null int32\n",
      "_AnimalType        26729 non-null int32\n",
      "_SexuponOutcome    26729 non-null int32\n",
      "_AgeuponOutcome    26729 non-null float64\n",
      "_Breed             26729 non-null int32\n",
      "_Color             26729 non-null int32\n",
      "Year               26729 non-null int64\n",
      "Month              26729 non-null int64\n",
      "Day                26729 non-null int64\n",
      "Hour               26729 non-null int64\n",
      "Minute             26729 non-null int64\n",
      "_OutcomeType       26729 non-null int32\n",
      "dtypes: float64(1), int32(6), int64(5), object(1)\n",
      "memory usage: 2.0+ MB\n",
      "None\n"
     ]
    }
   ],
   "source": [
    "# re-index train_df so that ID is first and Target (_OutcomeType) is last\n",
    "\n",
    "train_df = train_df.reindex(columns = ['AnimalID', '_Name',\n",
    "                                       '_AnimalType', '_SexuponOutcome',\n",
    "                                       '_AgeuponOutcome', '_Breed', '_Color',\n",
    "                                       'Year', 'Month', 'Day', 'Hour', 'Minute',\n",
    "                                       '_OutcomeType'])\n",
    "print(train_df.info())"
   ]
  },
  {
   "cell_type": "code",
   "execution_count": 37,
   "metadata": {},
   "outputs": [
    {
     "name": "stdout",
     "output_type": "stream",
     "text": [
      "21383\n",
      "5346\n"
     ]
    }
   ],
   "source": [
    "# split the data into a training set (80%) and a validation set (20%)\n",
    "\n",
    "cut = int(len(train_df) * 0.8)\n",
    "_validation_df = train_df[cut:]\n",
    "_train_df = train_df[:cut]\n",
    "\n",
    "print(len(_train_df))\n",
    "print(len(_validation_df))"
   ]
  },
  {
   "cell_type": "code",
   "execution_count": 38,
   "metadata": {},
   "outputs": [
    {
     "data": {
      "text/plain": [
       "AnimalID           0\n",
       "_Name              0\n",
       "_AnimalType        0\n",
       "_SexuponOutcome    0\n",
       "_AgeuponOutcome    0\n",
       "_Breed             0\n",
       "_Color             0\n",
       "Year               0\n",
       "Month              0\n",
       "Day                0\n",
       "Hour               0\n",
       "Minute             0\n",
       "_OutcomeType       0\n",
       "dtype: int64"
      ]
     },
     "execution_count": 38,
     "metadata": {},
     "output_type": "execute_result"
    }
   ],
   "source": [
    "type(train_df)\n",
    "train_df.isnull().sum()"
   ]
  },
  {
   "cell_type": "code",
   "execution_count": 39,
   "metadata": {},
   "outputs": [
    {
     "name": "stdout",
     "output_type": "stream",
     "text": [
      "[[0.23264917 0.1749446  0.25557164 0.21633075 0.12050385]\n",
      " [0.24142535 0.18916949 0.24386223 0.2317262  0.09381674]\n",
      " [0.24314206 0.21635891 0.19698164 0.22406924 0.11944815]\n",
      " ...\n",
      " [0.23494896 0.18280779 0.23424835 0.22406024 0.12393467]\n",
      " [0.16505102 0.23280716 0.09194534 0.29860985 0.21158662]\n",
      " [0.14321332 0.19964865 0.14150317 0.29156018 0.22407469]]\n"
     ]
    }
   ],
   "source": [
    "# build a classifier with scikit-learn - AdaBoost\n",
    "\n",
    "\n",
    "from sklearn.ensemble import AdaBoostClassifier\n",
    "from sklearn.tree import DecisionTreeClassifier\n",
    "\n",
    "A1 = AdaBoostClassifier(DecisionTreeClassifier(max_depth = 2),\n",
    "                        n_estimators = 100,\n",
    "                        learning_rate = 0.1)\n",
    "\n",
    "classifiers = [c.fit(_train_df.values[:,1:-1],\n",
    "                     _train_df.values[:,-1].astype(int)) \\\n",
    "               for c in [A1]]\n",
    "results = [c.predict_proba(_validation_df.values[:,1:-1]) \\\n",
    "           for c in classifiers]\n",
    "print(results[0])\n"
   ]
  },
  {
   "cell_type": "code",
   "execution_count": null,
   "metadata": {
    "collapsed": true
   },
   "outputs": [],
   "source": [
    "#Randomforest \n",
    "\n",
    "# "
   ]
  }
 ],
 "metadata": {
  "kernelspec": {
   "display_name": "Python 3",
   "language": "python",
   "name": "python3"
  },
  "language_info": {
   "codemirror_mode": {
    "name": "ipython",
    "version": 3
   },
   "file_extension": ".py",
   "mimetype": "text/x-python",
   "name": "python",
   "nbconvert_exporter": "python",
   "pygments_lexer": "ipython3",
   "version": "3.6.2"
  }
 },
 "nbformat": 4,
 "nbformat_minor": 2
}
